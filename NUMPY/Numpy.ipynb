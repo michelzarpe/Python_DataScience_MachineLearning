{
 "cells": [
  {
   "cell_type": "code",
   "execution_count": 4,
   "metadata": {},
   "outputs": [
    {
     "name": "stdout",
     "output_type": "stream",
     "text": [
      "[1 2 3 4]\n"
     ]
    }
   ],
   "source": [
    "import numpy as np\n",
    "minha_list = [1,2,3,4];\n",
    "array_numpy = np.array(minha_list);\n",
    "print(array_numpy);"
   ]
  },
  {
   "cell_type": "code",
   "execution_count": 6,
   "metadata": {},
   "outputs": [
    {
     "name": "stdout",
     "output_type": "stream",
     "text": [
      "[[1 2 3]\n",
      " [6 5 4]\n",
      " [9 8 7]]\n"
     ]
    }
   ],
   "source": [
    "minha_matriz = [[1,2,3],[6,5,4],[9,8,7]]\n",
    "matriz_numpy = np.array(minha_matriz);\n",
    "print(matriz_numpy)"
   ]
  },
  {
   "cell_type": "code",
   "execution_count": 15,
   "metadata": {},
   "outputs": [
    {
     "name": "stdout",
     "output_type": "stream",
     "text": [
      "[0. 0. 0. 0. 0. 0. 0. 0. 0. 0. 0. 0.]\n"
     ]
    }
   ],
   "source": [
    "matriz_auxiliar = np.arange(10,250,2) #inica em 10 até 249 de dois em dois\n",
    "vetor_auxiliarZeros = np.zeros(12)\n",
    "print(vetor_auxiliarZeros)"
   ]
  },
  {
   "cell_type": "code",
   "execution_count": 17,
   "metadata": {},
   "outputs": [
    {
     "name": "stdout",
     "output_type": "stream",
     "text": [
      "[[0. 0.]\n",
      " [0. 0.]]\n"
     ]
    }
   ],
   "source": [
    "matriz_auxiliarZeros = np.zeros((2,2))\n",
    "print(matriz_auxiliarZeros)"
   ]
  },
  {
   "cell_type": "code",
   "execution_count": 18,
   "metadata": {},
   "outputs": [
    {
     "name": "stdout",
     "output_type": "stream",
     "text": [
      "[[1. 1.]\n",
      " [1. 1.]]\n"
     ]
    }
   ],
   "source": [
    "matriz_auxiliarZeros = np.ones((2,2))\n",
    "print(matriz_auxiliarZeros)"
   ]
  },
  {
   "cell_type": "code",
   "execution_count": 21,
   "metadata": {},
   "outputs": [
    {
     "name": "stdout",
     "output_type": "stream",
     "text": [
      "[[1. 0. 0.]\n",
      " [0. 1. 0.]\n",
      " [0. 0. 1.]]\n"
     ]
    }
   ],
   "source": [
    "matriz_identidade = np.eye(3)\n",
    "print(matriz_identidade)"
   ]
  },
  {
   "cell_type": "code",
   "execution_count": 22,
   "metadata": {},
   "outputs": [
    {
     "name": "stdout",
     "output_type": "stream",
     "text": [
      "[ 0. 10. 20.]\n"
     ]
    }
   ],
   "source": [
    "array = np.linspace(0,20,3) #numeros igualmente espacados\n",
    "print(array)"
   ]
  },
  {
   "cell_type": "code",
   "execution_count": 27,
   "metadata": {},
   "outputs": [
    {
     "data": {
      "text/plain": [
       "array([95.48393654, 80.26841637,  3.6443684 , 66.96305215, 29.51533623])"
      ]
     },
     "execution_count": 27,
     "metadata": {},
     "output_type": "execute_result"
    }
   ],
   "source": [
    "np.random.rand(5) * 100 "
   ]
  },
  {
   "cell_type": "code",
   "execution_count": 28,
   "metadata": {},
   "outputs": [
    {
     "data": {
      "text/plain": [
       "array([[26.63765408, 36.2145721 , 94.96018837, 23.89519206, 61.05992479],\n",
       "       [21.01303525, 16.68093408, 23.57600598, 56.93503328, 27.36825343]])"
      ]
     },
     "execution_count": 28,
     "metadata": {},
     "output_type": "execute_result"
    }
   ],
   "source": [
    "np.random.rand(2,5) * 100 #ou usa com randn"
   ]
  },
  {
   "cell_type": "code",
   "execution_count": 36,
   "metadata": {},
   "outputs": [
    {
     "data": {
      "text/plain": [
       "array([31, 99, 90, 24, 28, 76, 91, 95, 45, 74, 13, 37, 80,  5, 52, 40, 40,\n",
       "       89, 92, 76, 61, 45, 31, 76, 85, 56, 45, 77, 82,  5,  2, 81, 60, 78,\n",
       "       22, 61,  5, 97, 78,  6,  3, 32, 80, 10, 10, 33, 62, 39, 57, 54, 22,\n",
       "       80, 35, 50, 33, 33, 93,  3, 98, 95, 32, 57,  6, 44,  3, 95,  9, 94,\n",
       "        6, 30, 24, 15, 85, 44, 46, 57, 61, 90, 45, 25, 47, 17, 17, 58, 37,\n",
       "       85, 73, 44, 18, 79, 64, 37, 19, 63, 32, 22, 28, 67, 56, 37])"
      ]
     },
     "execution_count": 36,
     "metadata": {},
     "output_type": "execute_result"
    }
   ],
   "source": [
    "np.random.randint(0,100,100) #"
   ]
  },
  {
   "cell_type": "code",
   "execution_count": 38,
   "metadata": {},
   "outputs": [
    {
     "data": {
      "text/plain": [
       "array([78., 38., 66., 66., 36.])"
      ]
     },
     "execution_count": 38,
     "metadata": {},
     "output_type": "execute_result"
    }
   ],
   "source": [
    "np.round(np.random.rand(5)*100,0) # transformar para inteiro"
   ]
  },
  {
   "cell_type": "code",
   "execution_count": 48,
   "metadata": {},
   "outputs": [
    {
     "name": "stdout",
     "output_type": "stream",
     "text": [
      "[[0.258334   0.38938034 0.14639145 0.50686531 0.06454304]\n",
      " [0.54100227 0.40534566 0.84434641 0.68313954 0.60959886]\n",
      " [0.24989369 0.63040606 0.76618505 0.61747074 0.16153139]\n",
      " [0.35046142 0.92943172 0.23610768 0.61129732 0.86274194]\n",
      " [0.74011995 0.791541   0.61474429 0.21918546 0.935999  ]]\n",
      "(5, 5)\n",
      "0.9359990049331518\n",
      "0.06454303625268532\n",
      "24\n",
      "4\n"
     ]
    }
   ],
   "source": [
    "array = np.random.rand(25) \n",
    "array = array.reshape((5,5)) #convertendo array para matriz\n",
    "print(array)\n",
    "print(array.shape) #atributo\n",
    "print(array.max())\n",
    "print(array.min())\n",
    "print(array.argmax()) #indice do maior elemento\n",
    "print(array.argmin()) #indice do menor elemento"
   ]
  },
  {
   "cell_type": "code",
   "execution_count": 54,
   "metadata": {},
   "outputs": [
    {
     "name": "stdout",
     "output_type": "stream",
     "text": [
      "[61. 39. 29. 27. 68.]\n",
      "[29. 27. 68.]\n"
     ]
    }
   ],
   "source": [
    "array = np.round(np.random.rand(5)*100,0) # transformar para inteiro\n",
    "print(array)\n",
    "print(array[2:])"
   ]
  },
  {
   "cell_type": "code",
   "execution_count": 88,
   "metadata": {},
   "outputs": [
    {
     "name": "stdout",
     "output_type": "stream",
     "text": [
      "[[ 0  1  2  3  4  5  6  7  8  9]\n",
      " [10 11 12 13 14 15 16 17 18 19]\n",
      " [20 21 22 23 24 25 26 27 28 29]\n",
      " [30 31 32 33 34 35 36 37 38 39]\n",
      " [40 41 42 43 44 45 46 47 48 49]]\n",
      "________________________________\n"
     ]
    }
   ],
   "source": [
    "matriz = np.arange(50).reshape((5,10))\n",
    "print(matriz)\n",
    "print(\"________________________________\")\n"
   ]
  },
  {
   "cell_type": "code",
   "execution_count": 89,
   "metadata": {},
   "outputs": [],
   "source": [
    "matriz2 = matriz[:3, 1:4]"
   ]
  },
  {
   "cell_type": "code",
   "execution_count": 90,
   "metadata": {},
   "outputs": [
    {
     "name": "stdout",
     "output_type": "stream",
     "text": [
      "[[ 1  2  3]\n",
      " [11 12 13]\n",
      " [21 22 23]]\n",
      "[[1100 1100 1100]\n",
      " [1100 1100 1100]\n",
      " [1100 1100 1100]]\n",
      "[[   0 1100 1100 1100    4    5    6    7    8    9]\n",
      " [  10 1100 1100 1100   14   15   16   17   18   19]\n",
      " [  20 1100 1100 1100   24   25   26   27   28   29]\n",
      " [  30   31   32   33   34   35   36   37   38   39]\n",
      " [  40   41   42   43   44   45   46   47   48   49]]\n"
     ]
    }
   ],
   "source": [
    "print(matriz2);\n",
    "matriz2[:] = 1100;\n",
    "print(matriz2);\n",
    "print(matriz);"
   ]
  },
  {
   "cell_type": "code",
   "execution_count": 92,
   "metadata": {},
   "outputs": [
    {
     "name": "stdout",
     "output_type": "stream",
     "text": [
      "[[1100 1100 1100]\n",
      " [1100 1100 1100]\n",
      " [1100 1100 1100]]\n",
      "[[200 200 200]\n",
      " [200 200 200]\n",
      " [200 200 200]]\n",
      "[[   0 1100 1100 1100    4    5    6    7    8    9]\n",
      " [  10 1100 1100 1100   14   15   16   17   18   19]\n",
      " [  20 1100 1100 1100   24   25   26   27   28   29]\n",
      " [  30   31   32   33   34   35   36   37   38   39]\n",
      " [  40   41   42   43   44   45   46   47   48   49]]\n"
     ]
    }
   ],
   "source": [
    "matriz3 = matriz[:3, 1:4].copy()\n",
    "print(matriz3);\n",
    "matriz3[:] = 200;\n",
    "print(matriz3);\n",
    "print(matriz);"
   ]
  },
  {
   "cell_type": "code",
   "execution_count": 100,
   "metadata": {},
   "outputs": [
    {
     "name": "stdout",
     "output_type": "stream",
     "text": [
      "[[False  True  True  True False False False False False False]\n",
      " [False  True  True  True False False False False False False]\n",
      " [False  True  True  True False False False False False False]\n",
      " [False False False False False False False False False False]\n",
      " [False False False False False False False False False False]]\n",
      "[[1100 1100 1100]\n",
      " [1100 1100 1100]\n",
      " [1100 1100 1100]]\n",
      "[[0.00090909 0.00090909 0.00090909]\n",
      " [0.00090909 0.00090909 0.00090909]\n",
      " [0.00090909 0.00090909 0.00090909]]\n",
      "[[33.1662479 33.1662479 33.1662479]\n",
      " [33.1662479 33.1662479 33.1662479]\n",
      " [33.1662479 33.1662479 33.1662479]]\n",
      "412.3357180744836\n",
      "[ 100 3372 3374 3376  120  125  130  135  140  145]\n",
      "[3339 3409 3479  345  445]\n"
     ]
    }
   ],
   "source": [
    "print(matriz > 50);\n",
    "bol = matriz > 50\n",
    "print(matriz[bol].reshape(3,3))\n",
    "print(1/matriz[bol].reshape(3,3))\n",
    "print(np.sqrt(matriz[bol].reshape(3,3)))\n",
    "print(matriz.std())\n",
    "print(matriz.sum(axis=0)) #soma coluna da matrix\n",
    "print(matriz.sum(axis=1)) #soma linhas da matrix"
   ]
  },
  {
   "cell_type": "code",
   "execution_count": null,
   "metadata": {},
   "outputs": [],
   "source": []
  }
 ],
 "metadata": {
  "kernelspec": {
   "display_name": "Python 3",
   "language": "python",
   "name": "python3"
  },
  "language_info": {
   "codemirror_mode": {
    "name": "ipython",
    "version": 3
   },
   "file_extension": ".py",
   "mimetype": "text/x-python",
   "name": "python",
   "nbconvert_exporter": "python",
   "pygments_lexer": "ipython3",
   "version": "3.6.4"
  }
 },
 "nbformat": 4,
 "nbformat_minor": 2
}
