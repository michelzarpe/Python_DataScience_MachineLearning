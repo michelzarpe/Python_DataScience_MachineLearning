{
 "cells": [
  {
   "cell_type": "markdown",
   "metadata": {},
   "source": [
    "# Support Vector Machines com Python\n",
    "\n",
    "Bem vindo ao notebook sobre Support Vector Machines com Python! Lembre-se de se consultar o vídeo para obter informações completas sobre o código aqui!\n",
    "\n",
    "## Importando bibliotecas"
   ]
  },
  {
   "cell_type": "code",
   "execution_count": 1,
   "metadata": {},
   "outputs": [],
   "source": [
    "import pandas as pd\n",
    "import numpy as np\n",
    "import matplotlib.pyplot as plt\n",
    "import seaborn as sns\n",
    "%matplotlib inline"
   ]
  },
  {
   "cell_type": "markdown",
   "metadata": {},
   "source": [
    "## Obter dados\n",
    "\n",
    "Usaremos o conjunto de dados de câncer de mama incorporado da Scikit Learn. Podemos obter com a função load:"
   ]
  },
  {
   "cell_type": "code",
   "execution_count": 2,
   "metadata": {},
   "outputs": [],
   "source": [
    "from sklearn.datasets import load_breast_cancer"
   ]
  },
  {
   "cell_type": "code",
   "execution_count": 3,
   "metadata": {},
   "outputs": [],
   "source": [
    "cancer = load_breast_cancer()"
   ]
  },
  {
   "cell_type": "markdown",
   "metadata": {},
   "source": [
    "O conjunto de dados é apresentado em uma forma de dicionário:"
   ]
  },
  {
   "cell_type": "code",
   "execution_count": 4,
   "metadata": {},
   "outputs": [
    {
     "data": {
      "text/plain": [
       "dict_keys(['data', 'target', 'target_names', 'DESCR', 'feature_names'])"
      ]
     },
     "execution_count": 4,
     "metadata": {},
     "output_type": "execute_result"
    }
   ],
   "source": [
    "cancer.keys()"
   ]
  },
  {
   "cell_type": "markdown",
   "metadata": {},
   "source": [
    "Podemos pegar informações e arrays deste dicionário para configurar nosso dataframe e entender os recursos:"
   ]
  },
  {
   "cell_type": "code",
   "execution_count": 4,
   "metadata": {},
   "outputs": [
    {
     "name": "stdout",
     "output_type": "stream",
     "text": [
      "Breast Cancer Wisconsin (Diagnostic) Database\n",
      "\n",
      "Notes\n",
      "-----\n",
      "Data Set Characteristics:\n",
      "    :Number of Instances: 569\n",
      "\n",
      "    :Number of Attributes: 30 numeric, predictive attributes and the class\n",
      "\n",
      "    :Attribute Information:\n",
      "        - radius (mean of distances from center to points on the perimeter)\n",
      "        - texture (standard deviation of gray-scale values)\n",
      "        - perimeter\n",
      "        - area\n",
      "        - smoothness (local variation in radius lengths)\n",
      "        - compactness (perimeter^2 / area - 1.0)\n",
      "        - concavity (severity of concave portions of the contour)\n",
      "        - concave points (number of concave portions of the contour)\n",
      "        - symmetry \n",
      "        - fractal dimension (\"coastline approximation\" - 1)\n",
      "        \n",
      "        The mean, standard error, and \"worst\" or largest (mean of the three\n",
      "        largest values) of these features were computed for each image,\n",
      "        resulting in 30 features.  For instance, field 3 is Mean Radius, field\n",
      "        13 is Radius SE, field 23 is Worst Radius.\n",
      "        \n",
      "        - class:\n",
      "                - WDBC-Malignant\n",
      "                - WDBC-Benign\n",
      "\n",
      "    :Summary Statistics:\n",
      "\n",
      "    ===================================== ======= ========\n",
      "                                           Min     Max\n",
      "    ===================================== ======= ========\n",
      "    radius (mean):                         6.981   28.11\n",
      "    texture (mean):                        9.71    39.28\n",
      "    perimeter (mean):                      43.79   188.5\n",
      "    area (mean):                           143.5   2501.0\n",
      "    smoothness (mean):                     0.053   0.163\n",
      "    compactness (mean):                    0.019   0.345\n",
      "    concavity (mean):                      0.0     0.427\n",
      "    concave points (mean):                 0.0     0.201\n",
      "    symmetry (mean):                       0.106   0.304\n",
      "    fractal dimension (mean):              0.05    0.097\n",
      "    radius (standard error):               0.112   2.873\n",
      "    texture (standard error):              0.36    4.885\n",
      "    perimeter (standard error):            0.757   21.98\n",
      "    area (standard error):                 6.802   542.2\n",
      "    smoothness (standard error):           0.002   0.031\n",
      "    compactness (standard error):          0.002   0.135\n",
      "    concavity (standard error):            0.0     0.396\n",
      "    concave points (standard error):       0.0     0.053\n",
      "    symmetry (standard error):             0.008   0.079\n",
      "    fractal dimension (standard error):    0.001   0.03\n",
      "    radius (worst):                        7.93    36.04\n",
      "    texture (worst):                       12.02   49.54\n",
      "    perimeter (worst):                     50.41   251.2\n",
      "    area (worst):                          185.2   4254.0\n",
      "    smoothness (worst):                    0.071   0.223\n",
      "    compactness (worst):                   0.027   1.058\n",
      "    concavity (worst):                     0.0     1.252\n",
      "    concave points (worst):                0.0     0.291\n",
      "    symmetry (worst):                      0.156   0.664\n",
      "    fractal dimension (worst):             0.055   0.208\n",
      "    ===================================== ======= ========\n",
      "\n",
      "    :Missing Attribute Values: None\n",
      "\n",
      "    :Class Distribution: 212 - Malignant, 357 - Benign\n",
      "\n",
      "    :Creator:  Dr. William H. Wolberg, W. Nick Street, Olvi L. Mangasarian\n",
      "\n",
      "    :Donor: Nick Street\n",
      "\n",
      "    :Date: November, 1995\n",
      "\n",
      "This is a copy of UCI ML Breast Cancer Wisconsin (Diagnostic) datasets.\n",
      "https://goo.gl/U2Uwz2\n",
      "\n",
      "Features are computed from a digitized image of a fine needle\n",
      "aspirate (FNA) of a breast mass.  They describe\n",
      "characteristics of the cell nuclei present in the image.\n",
      "A few of the images can be found at\n",
      "http://www.cs.wisc.edu/~street/images/\n",
      "\n",
      "Separating plane described above was obtained using\n",
      "Multisurface Method-Tree (MSM-T) [K. P. Bennett, \"Decision Tree\n",
      "Construction Via Linear Programming.\" Proceedings of the 4th\n",
      "Midwest Artificial Intelligence and Cognitive Science Society,\n",
      "pp. 97-101, 1992], a classification method which uses linear\n",
      "programming to construct a decision tree.  Relevant features\n",
      "were selected using an exhaustive search in the space of 1-4\n",
      "features and 1-3 separating planes.\n",
      "\n",
      "The actual linear program used to obtain the separating plane\n",
      "in the 3-dimensional space is that described in:\n",
      "[K. P. Bennett and O. L. Mangasarian: \"Robust Linear\n",
      "Programming Discrimination of Two Linearly Inseparable Sets\",\n",
      "Optimization Methods and Software 1, 1992, 23-34].\n",
      "\n",
      "This database is also available through the UW CS ftp server:\n",
      "\n",
      "ftp ftp.cs.wisc.edu\n",
      "cd math-prog/cpo-dataset/machine-learn/WDBC/\n",
      "\n",
      "References\n",
      "----------\n",
      "   - W.N. Street, W.H. Wolberg and O.L. Mangasarian. Nuclear feature extraction \n",
      "     for breast tumor diagnosis. IS&T/SPIE 1993 International Symposium on \n",
      "     Electronic Imaging: Science and Technology, volume 1905, pages 861-870, \n",
      "     San Jose, CA, 1993. \n",
      "   - O.L. Mangasarian, W.N. Street and W.H. Wolberg. Breast cancer diagnosis and \n",
      "     prognosis via linear programming. Operations Research, 43(4), pages 570-577, \n",
      "     July-August 1995.\n",
      "   - W.H. Wolberg, W.N. Street, and O.L. Mangasarian. Machine learning techniques\n",
      "     to diagnose breast cancer from fine-needle aspirates. Cancer Letters 77 (1994) \n",
      "     163-171.\n",
      "\n"
     ]
    }
   ],
   "source": [
    "print(cancer['DESCR'])"
   ]
  },
  {
   "cell_type": "code",
   "execution_count": 5,
   "metadata": {},
   "outputs": [
    {
     "data": {
      "text/plain": [
       "array(['mean radius', 'mean texture', 'mean perimeter', 'mean area',\n",
       "       'mean smoothness', 'mean compactness', 'mean concavity',\n",
       "       'mean concave points', 'mean symmetry', 'mean fractal dimension',\n",
       "       'radius error', 'texture error', 'perimeter error', 'area error',\n",
       "       'smoothness error', 'compactness error', 'concavity error',\n",
       "       'concave points error', 'symmetry error',\n",
       "       'fractal dimension error', 'worst radius', 'worst texture',\n",
       "       'worst perimeter', 'worst area', 'worst smoothness',\n",
       "       'worst compactness', 'worst concavity', 'worst concave points',\n",
       "       'worst symmetry', 'worst fractal dimension'], dtype='<U23')"
      ]
     },
     "execution_count": 5,
     "metadata": {},
     "output_type": "execute_result"
    }
   ],
   "source": [
    "cancer['feature_names']"
   ]
  },
  {
   "cell_type": "markdown",
   "metadata": {},
   "source": [
    "## Configurando o DataFrame"
   ]
  },
  {
   "cell_type": "code",
   "execution_count": 6,
   "metadata": {},
   "outputs": [
    {
     "name": "stdout",
     "output_type": "stream",
     "text": [
      "<class 'pandas.core.frame.DataFrame'>\n",
      "RangeIndex: 569 entries, 0 to 568\n",
      "Data columns (total 30 columns):\n",
      "mean radius                569 non-null float64\n",
      "mean texture               569 non-null float64\n",
      "mean perimeter             569 non-null float64\n",
      "mean area                  569 non-null float64\n",
      "mean smoothness            569 non-null float64\n",
      "mean compactness           569 non-null float64\n",
      "mean concavity             569 non-null float64\n",
      "mean concave points        569 non-null float64\n",
      "mean symmetry              569 non-null float64\n",
      "mean fractal dimension     569 non-null float64\n",
      "radius error               569 non-null float64\n",
      "texture error              569 non-null float64\n",
      "perimeter error            569 non-null float64\n",
      "area error                 569 non-null float64\n",
      "smoothness error           569 non-null float64\n",
      "compactness error          569 non-null float64\n",
      "concavity error            569 non-null float64\n",
      "concave points error       569 non-null float64\n",
      "symmetry error             569 non-null float64\n",
      "fractal dimension error    569 non-null float64\n",
      "worst radius               569 non-null float64\n",
      "worst texture              569 non-null float64\n",
      "worst perimeter            569 non-null float64\n",
      "worst area                 569 non-null float64\n",
      "worst smoothness           569 non-null float64\n",
      "worst compactness          569 non-null float64\n",
      "worst concavity            569 non-null float64\n",
      "worst concave points       569 non-null float64\n",
      "worst symmetry             569 non-null float64\n",
      "worst fractal dimension    569 non-null float64\n",
      "dtypes: float64(30)\n",
      "memory usage: 133.4 KB\n"
     ]
    }
   ],
   "source": [
    "df_feat = pd.DataFrame(cancer['data'],columns=cancer['feature_names'])\n",
    "df_feat.info()"
   ]
  },
  {
   "cell_type": "code",
   "execution_count": 7,
   "metadata": {},
   "outputs": [
    {
     "data": {
      "text/plain": [
       "array([0, 0, 0, 0, 0, 0, 0, 0, 0, 0, 0, 0, 0, 0, 0, 0, 0, 0, 0, 1, 1, 1,\n",
       "       0, 0, 0, 0, 0, 0, 0, 0, 0, 0, 0, 0, 0, 0, 0, 1, 0, 0, 0, 0, 0, 0,\n",
       "       0, 0, 1, 0, 1, 1, 1, 1, 1, 0, 0, 1, 0, 0, 1, 1, 1, 1, 0, 1, 0, 0,\n",
       "       1, 1, 1, 1, 0, 1, 0, 0, 1, 0, 1, 0, 0, 1, 1, 1, 0, 0, 1, 0, 0, 0,\n",
       "       1, 1, 1, 0, 1, 1, 0, 0, 1, 1, 1, 0, 0, 1, 1, 1, 1, 0, 1, 1, 0, 1,\n",
       "       1, 1, 1, 1, 1, 1, 1, 0, 0, 0, 1, 0, 0, 1, 1, 1, 0, 0, 1, 0, 1, 0,\n",
       "       0, 1, 0, 0, 1, 1, 0, 1, 1, 0, 1, 1, 1, 1, 0, 1, 1, 1, 1, 1, 1, 1,\n",
       "       1, 1, 0, 1, 1, 1, 1, 0, 0, 1, 0, 1, 1, 0, 0, 1, 1, 0, 0, 1, 1, 1,\n",
       "       1, 0, 1, 1, 0, 0, 0, 1, 0, 1, 0, 1, 1, 1, 0, 1, 1, 0, 0, 1, 0, 0,\n",
       "       0, 0, 1, 0, 0, 0, 1, 0, 1, 0, 1, 1, 0, 1, 0, 0, 0, 0, 1, 1, 0, 0,\n",
       "       1, 1, 1, 0, 1, 1, 1, 1, 1, 0, 0, 1, 1, 0, 1, 1, 0, 0, 1, 0, 1, 1,\n",
       "       1, 1, 0, 1, 1, 1, 1, 1, 0, 1, 0, 0, 0, 0, 0, 0, 0, 0, 0, 0, 0, 0,\n",
       "       0, 0, 1, 1, 1, 1, 1, 1, 0, 1, 0, 1, 1, 0, 1, 1, 0, 1, 0, 0, 1, 1,\n",
       "       1, 1, 1, 1, 1, 1, 1, 1, 1, 1, 1, 0, 1, 1, 0, 1, 0, 1, 1, 1, 1, 1,\n",
       "       1, 1, 1, 1, 1, 1, 1, 1, 1, 0, 1, 1, 1, 0, 1, 0, 1, 1, 1, 1, 0, 0,\n",
       "       0, 1, 1, 1, 1, 0, 1, 0, 1, 0, 1, 1, 1, 0, 1, 1, 1, 1, 1, 1, 1, 0,\n",
       "       0, 0, 1, 1, 1, 1, 1, 1, 1, 1, 1, 1, 1, 0, 0, 1, 0, 0, 0, 1, 0, 0,\n",
       "       1, 1, 1, 1, 1, 0, 1, 1, 1, 1, 1, 0, 1, 1, 1, 0, 1, 1, 0, 0, 1, 1,\n",
       "       1, 1, 1, 1, 0, 1, 1, 1, 1, 1, 1, 1, 0, 1, 1, 1, 1, 1, 0, 1, 1, 0,\n",
       "       1, 1, 1, 1, 1, 1, 1, 1, 1, 1, 1, 1, 0, 1, 0, 0, 1, 0, 1, 1, 1, 1,\n",
       "       1, 0, 1, 1, 0, 1, 0, 1, 1, 0, 1, 0, 1, 1, 1, 1, 1, 1, 1, 1, 0, 0,\n",
       "       1, 1, 1, 1, 1, 1, 0, 1, 1, 1, 1, 1, 1, 1, 1, 1, 1, 0, 1, 1, 1, 1,\n",
       "       1, 1, 1, 0, 1, 0, 1, 1, 0, 1, 1, 1, 1, 1, 0, 0, 1, 0, 1, 0, 1, 1,\n",
       "       1, 1, 1, 0, 1, 1, 0, 1, 0, 1, 0, 0, 1, 1, 1, 0, 1, 1, 1, 1, 1, 1,\n",
       "       1, 1, 1, 1, 1, 0, 1, 0, 0, 1, 1, 1, 1, 1, 1, 1, 1, 1, 1, 1, 1, 1,\n",
       "       1, 1, 1, 1, 1, 1, 1, 1, 1, 1, 1, 1, 0, 0, 0, 0, 0, 0, 1])"
      ]
     },
     "execution_count": 7,
     "metadata": {},
     "output_type": "execute_result"
    }
   ],
   "source": [
    "cancer['target']"
   ]
  },
  {
   "cell_type": "code",
   "execution_count": 8,
   "metadata": {},
   "outputs": [],
   "source": [
    "df_target = pd.DataFrame(cancer['target'],columns=['Cancer'])"
   ]
  },
  {
   "cell_type": "markdown",
   "metadata": {},
   "source": [
    "Agora vamos verificar o dataframe:"
   ]
  },
  {
   "cell_type": "code",
   "execution_count": 9,
   "metadata": {},
   "outputs": [
    {
     "ename": "NameError",
     "evalue": "name 'df' is not defined",
     "output_type": "error",
     "traceback": [
      "\u001b[1;31m---------------------------------------------------------------------------\u001b[0m",
      "\u001b[1;31mNameError\u001b[0m                                 Traceback (most recent call last)",
      "\u001b[1;32m<ipython-input-9-c42a15b2c7cf>\u001b[0m in \u001b[0;36m<module>\u001b[1;34m()\u001b[0m\n\u001b[1;32m----> 1\u001b[1;33m \u001b[0mdf\u001b[0m\u001b[1;33m.\u001b[0m\u001b[0mhead\u001b[0m\u001b[1;33m(\u001b[0m\u001b[1;33m)\u001b[0m\u001b[1;33m\u001b[0m\u001b[0m\n\u001b[0m",
      "\u001b[1;31mNameError\u001b[0m: name 'df' is not defined"
     ]
    }
   ],
   "source": [
    "df.head()"
   ]
  },
  {
   "cell_type": "markdown",
   "metadata": {},
   "source": [
    "# Análise de dados exploratórios"
   ]
  },
  {
   "cell_type": "markdown",
   "metadata": {},
   "source": [
    "Nós ignoraremos a parte Data Viz para esta leitura, pois existem tantos parâmetros que são difíceis de interpretar se você não tem conhecimento e domínio de câncer ou células tumorais. No seu projeto você terá mais oportunidades para visualizar os dados."
   ]
  },
  {
   "cell_type": "markdown",
   "metadata": {},
   "source": [
    "## Divisão treino-teste"
   ]
  },
  {
   "cell_type": "code",
   "execution_count": 10,
   "metadata": {},
   "outputs": [],
   "source": [
    "from sklearn.model_selection import train_test_split"
   ]
  },
  {
   "cell_type": "code",
   "execution_count": 11,
   "metadata": {},
   "outputs": [],
   "source": [
    "X_train, X_test, y_train, y_test = train_test_split(df_feat, np.ravel(df_target), test_size=0.30, random_state=101)"
   ]
  },
  {
   "cell_type": "markdown",
   "metadata": {},
   "source": [
    "# Treinando o Support Vector Classifier"
   ]
  },
  {
   "cell_type": "code",
   "execution_count": 12,
   "metadata": {},
   "outputs": [],
   "source": [
    "from sklearn.svm import SVC"
   ]
  },
  {
   "cell_type": "code",
   "execution_count": 13,
   "metadata": {},
   "outputs": [],
   "source": [
    "model = SVC()"
   ]
  },
  {
   "cell_type": "code",
   "execution_count": 14,
   "metadata": {},
   "outputs": [
    {
     "data": {
      "text/plain": [
       "SVC(C=1.0, cache_size=200, class_weight=None, coef0=0.0,\n",
       "  decision_function_shape='ovr', degree=3, gamma='auto', kernel='rbf',\n",
       "  max_iter=-1, probability=False, random_state=None, shrinking=True,\n",
       "  tol=0.001, verbose=False)"
      ]
     },
     "execution_count": 14,
     "metadata": {},
     "output_type": "execute_result"
    }
   ],
   "source": [
    "model.fit(X_train,y_train)"
   ]
  },
  {
   "cell_type": "markdown",
   "metadata": {},
   "source": [
    "## Previsões e avaliações\n",
    "\n",
    "Agora vamos prever o uso do modelo treinado."
   ]
  },
  {
   "cell_type": "code",
   "execution_count": 15,
   "metadata": {},
   "outputs": [],
   "source": [
    "predictions = model.predict(X_test)"
   ]
  },
  {
   "cell_type": "code",
   "execution_count": 16,
   "metadata": {},
   "outputs": [],
   "source": [
    "from sklearn.metrics import classification_report,confusion_matrix"
   ]
  },
  {
   "cell_type": "code",
   "execution_count": 17,
   "metadata": {},
   "outputs": [
    {
     "name": "stdout",
     "output_type": "stream",
     "text": [
      "[[  0  66]\n",
      " [  0 105]]\n"
     ]
    }
   ],
   "source": [
    "print(confusion_matrix(y_test,predictions))"
   ]
  },
  {
   "cell_type": "code",
   "execution_count": 18,
   "metadata": {},
   "outputs": [
    {
     "name": "stdout",
     "output_type": "stream",
     "text": [
      "             precision    recall  f1-score   support\n",
      "\n",
      "          0       0.00      0.00      0.00        66\n",
      "          1       0.61      1.00      0.76       105\n",
      "\n",
      "avg / total       0.38      0.61      0.47       171\n",
      "\n"
     ]
    },
    {
     "name": "stderr",
     "output_type": "stream",
     "text": [
      "C:\\Users\\Usuario\\Anaconda3\\lib\\site-packages\\sklearn\\metrics\\classification.py:1135: UndefinedMetricWarning: Precision and F-score are ill-defined and being set to 0.0 in labels with no predicted samples.\n",
      "  'precision', 'predicted', average, warn_for)\n"
     ]
    }
   ],
   "source": [
    "print(classification_report(y_test,predictions))"
   ]
  },
  {
   "cell_type": "markdown",
   "metadata": {},
   "source": [
    "Note que estamos classificando tudo em uma única classe! Isso significa que nosso modelo precisa ter parâmetros ajustados (também pode ajudar a normalizar os dados).\n",
    "\n",
    "Podemos procurar por parâmetros usando um GridSearch!"
   ]
  },
  {
   "cell_type": "markdown",
   "metadata": {},
   "source": [
    "# Gridsearch\n",
    "\n",
    "Encontrar os parâmetros certos (como o que o C ou os valores de gama para usar) é uma tarefa complicada! Mas, felizmente, podemos ser um pouco preguiçosos e apenas tentar um monte de combinações e ver o que funciona melhor! Essa idéia de criar uma \"grade\" de parâmetros e apenas experimentar todas as combinações possíveis é chamada Gridsearch, esse método é comum o suficiente para que o Scikit-learn tenha essa funcionalidade incorporada no GridSearchCV!\n",
    "\n",
    "O GridSearchCV usa um dicionário que descreve os parâmetros que devem ser testados e um modelo para treinar. A grade de parâmetros é definida como um dicionário, onde as chaves são os parâmetros e os valores são as configurações a serem testadas."
   ]
  },
  {
   "cell_type": "code",
   "execution_count": 63,
   "metadata": {
    "collapsed": true
   },
   "outputs": [],
   "source": [
    "param_grid = {'C': [0.1,1, 10, 100, 1000], 'gamma': [1,0.1,0.01,0.001,0.0001], 'kernel': ['rbf']} "
   ]
  },
  {
   "cell_type": "code",
   "execution_count": 64,
   "metadata": {
    "collapsed": true
   },
   "outputs": [],
   "source": [
    "from sklearn.model_selection import GridSearchCV"
   ]
  },
  {
   "cell_type": "markdown",
   "metadata": {},
   "source": [
    "Uma das grandes coisas do GridSearchCV é que é um meta-estimador. Ele pega um estimador como SVC e cria um novo estimador, que se comporta exatamente da mesma forma - neste caso, como um classificador. Você deve adicionar refit=True e escolher detalhadamente para  número desejado, maior o número, mais detalhado. \n",
    "\n",
    "Você deve adicionar refit=True e escolher  um número para o parâmetro verbose. Quanto maior o número, mais detalhamento teremos."
   ]
  },
  {
   "cell_type": "code",
   "execution_count": 65,
   "metadata": {
    "collapsed": true
   },
   "outputs": [],
   "source": [
    "grid = GridSearchCV(SVC(),param_grid,refit=True,verbose=3)"
   ]
  },
  {
   "cell_type": "markdown",
   "metadata": {},
   "source": [
    "O que o fit faz é um pouco mais complicado do que o habital. Primeiro, ele executa o mesmo loop com validação cruzada, para encontrar a melhor combinação de parâmetros. Uma vez que tenha a melhor combinação, ele corre novamente em todos os dados para fitá-los (sem validação cruzada), para construir um único modelo novo usando a melhor configuração de parâmetro."
   ]
  },
  {
   "cell_type": "code",
   "execution_count": 40,
   "metadata": {},
   "outputs": [
    {
     "name": "stdout",
     "output_type": "stream",
     "text": [
      "Fitting 3 folds for each of 25 candidates, totalling 75 fits\n",
      "[CV] gamma=1, C=0.1, kernel=rbf ......................................\n",
      "[CV] ............. gamma=1, C=0.1, kernel=rbf, score=0.631579 -   0.0s\n",
      "[CV] gamma=1, C=0.1, kernel=rbf ......................................\n",
      "[CV] ............. gamma=1, C=0.1, kernel=rbf, score=0.631579 -   0.0s\n",
      "[CV] gamma=1, C=0.1, kernel=rbf ......................................\n",
      "[CV] ............. gamma=1, C=0.1, kernel=rbf, score=0.636364 -   0.0s\n",
      "[CV] gamma=0.1, C=0.1, kernel=rbf ....................................\n",
      "[CV] ........... gamma=0.1, C=0.1, kernel=rbf, score=0.631579 -   0.0s\n",
      "[CV] gamma=0.1, C=0.1, kernel=rbf ....................................\n",
      "[CV] ........... gamma=0.1, C=0.1, kernel=rbf, score=0.631579 -   0.0s\n",
      "[CV] gamma=0.1, C=0.1, kernel=rbf ....................................\n",
      "[CV] ........... gamma=0.1, C=0.1, kernel=rbf, score=0.636364 -   0.0s\n",
      "[CV] gamma=0.01, C=0.1, kernel=rbf ...................................\n",
      "[CV] .......... gamma=0.01, C=0.1, kernel=rbf, score=0.631579 -   0.0s\n",
      "[CV] gamma=0.01, C=0.1, kernel=rbf ...................................\n",
      "[CV] .......... gamma=0.01, C=0.1, kernel=rbf, score=0.631579 -   0.0s\n",
      "[CV] gamma=0.01, C=0.1, kernel=rbf ...................................\n",
      "[CV] .......... gamma=0.01, C=0.1, kernel=rbf, score=0.636364 -   0.0s\n",
      "[CV] gamma=0.001, C=0.1, kernel=rbf ..................................\n",
      "[CV] ......... gamma=0.001, C=0.1, kernel=rbf, score=0.631579 -   0.0s\n",
      "[CV] gamma=0.001, C=0.1, kernel=rbf ..................................\n",
      "[CV] ......... gamma=0.001, C=0.1, kernel=rbf, score=0.631579 -   0.0s\n",
      "[CV] gamma=0.001, C=0.1, kernel=rbf ..................................\n",
      "[CV] ......... gamma=0.001, C=0.1, kernel=rbf, score=0.636364 -   0.0s\n",
      "[CV] gamma=0.0001, C=0.1, kernel=rbf .................................\n",
      "[CV] ........ gamma=0.0001, C=0.1, kernel=rbf, score=0.902256 -   0.0s\n",
      "[CV] gamma=0.0001, C=0.1, kernel=rbf .................................\n",
      "[CV] ........ gamma=0.0001, C=0.1, kernel=rbf, score=0.962406 -   0.0s\n",
      "[CV] gamma=0.0001, C=0.1, kernel=rbf .................................\n",
      "[CV] ........ gamma=0.0001, C=0.1, kernel=rbf, score=0.916667 -   0.0s\n",
      "[CV] gamma=1, C=1, kernel=rbf ........................................\n",
      "[CV] ............... gamma=1, C=1, kernel=rbf, score=0.631579 -   0.0s\n",
      "[CV] gamma=1, C=1, kernel=rbf ........................................\n",
      "[CV] ............... gamma=1, C=1, kernel=rbf, score=0.631579 -   0.0s\n",
      "[CV] gamma=1, C=1, kernel=rbf ........................................\n",
      "[CV] ............... gamma=1, C=1, kernel=rbf, score=0.636364 -   0.0s\n",
      "[CV] gamma=0.1, C=1, kernel=rbf ......................................\n",
      "[CV] ............. gamma=0.1, C=1, kernel=rbf, score=0.631579 -   0.0s\n",
      "[CV] gamma=0.1, C=1, kernel=rbf ......................................\n",
      "[CV] ............. gamma=0.1, C=1, kernel=rbf, score=0.631579 -   0.0s\n",
      "[CV] gamma=0.1, C=1, kernel=rbf ......................................\n",
      "[CV] ............. gamma=0.1, C=1, kernel=rbf, score=0.636364 -   0.0s\n",
      "[CV] gamma=0.01, C=1, kernel=rbf .....................................\n",
      "[CV] ............ gamma=0.01, C=1, kernel=rbf, score=0.631579 -   0.0s\n",
      "[CV] gamma=0.01, C=1, kernel=rbf .....................................\n",
      "[CV] ............ gamma=0.01, C=1, kernel=rbf, score=0.631579 -   0.0s\n",
      "[CV] gamma=0.01, C=1, kernel=rbf .....................................\n",
      "[CV] ............ gamma=0.01, C=1, kernel=rbf, score=0.636364 -   0.0s\n",
      "[CV] gamma=0.001, C=1, kernel=rbf ....................................\n",
      "[CV] ........... gamma=0.001, C=1, kernel=rbf, score=0.902256 -   0.0s\n",
      "[CV] gamma=0.001, C=1, kernel=rbf ....................................\n",
      "[CV] ........... gamma=0.001, C=1, kernel=rbf, score=0.939850 -   0.0s\n",
      "[CV] gamma=0.001, C=1, kernel=rbf ....................................\n",
      "[CV] ........... gamma=0.001, C=1, kernel=rbf, score=0.954545 -   0.0s\n",
      "[CV] gamma=0.0001, C=1, kernel=rbf ...................................\n",
      "[CV] .......... gamma=0.0001, C=1, kernel=rbf, score=0.939850 -   0.0s\n",
      "[CV] gamma=0.0001, C=1, kernel=rbf ...................................\n",
      "[CV] .......... gamma=0.0001, C=1, kernel=rbf, score=0.969925 -   0.0s\n",
      "[CV] gamma=0.0001, C=1, kernel=rbf ...................................\n",
      "[CV] .......... gamma=0.0001, C=1, kernel=rbf, score=0.946970 -   0.0s\n",
      "[CV] gamma=1, C=10, kernel=rbf .......................................\n",
      "[CV] .............. gamma=1, C=10, kernel=rbf, score=0.631579 -   0.0s\n",
      "[CV] gamma=1, C=10, kernel=rbf .......................................\n",
      "[CV] .............. gamma=1, C=10, kernel=rbf, score=0.631579 -   0.0s\n",
      "[CV] gamma=1, C=10, kernel=rbf .......................................\n",
      "[CV] .............. gamma=1, C=10, kernel=rbf, score=0.636364 -   0.0s\n",
      "[CV] gamma=0.1, C=10, kernel=rbf .....................................\n",
      "[CV] ............ gamma=0.1, C=10, kernel=rbf, score=0.631579 -   0.0s\n",
      "[CV] gamma=0.1, C=10, kernel=rbf .....................................\n",
      "[CV] ............ gamma=0.1, C=10, kernel=rbf, score=0.631579 -   0.0s\n",
      "[CV] gamma=0.1, C=10, kernel=rbf .....................................\n",
      "[CV] ............ gamma=0.1, C=10, kernel=rbf, score=0.636364 -   0.0s\n",
      "[CV] gamma=0.01, C=10, kernel=rbf ....................................\n",
      "[CV] ........... gamma=0.01, C=10, kernel=rbf, score=0.631579 -   0.0s\n",
      "[CV] gamma=0.01, C=10, kernel=rbf ....................................\n",
      "[CV] ........... gamma=0.01, C=10, kernel=rbf, score=0.631579 -   0.0s\n",
      "[CV] gamma=0.01, C=10, kernel=rbf ....................................\n",
      "[CV] ........... gamma=0.01, C=10, kernel=rbf, score=0.636364 -   0.0s\n",
      "[CV] gamma=0.001, C=10, kernel=rbf ...................................\n",
      "[CV] .......... gamma=0.001, C=10, kernel=rbf, score=0.894737 -   0.0s\n",
      "[CV] gamma=0.001, C=10, kernel=rbf ...................................\n",
      "[CV] .......... gamma=0.001, C=10, kernel=rbf, score=0.932331 -   0.0s\n",
      "[CV] gamma=0.001, C=10, kernel=rbf ...................................\n",
      "[CV] .......... gamma=0.001, C=10, kernel=rbf, score=0.916667 -   0.0s\n",
      "[CV] gamma=0.0001, C=10, kernel=rbf ..................................\n",
      "[CV] ......... gamma=0.0001, C=10, kernel=rbf, score=0.932331 -   0.0s\n",
      "[CV] gamma=0.0001, C=10, kernel=rbf ..................................\n",
      "[CV] ......... gamma=0.0001, C=10, kernel=rbf, score=0.969925 -   0.0s\n",
      "[CV] gamma=0.0001, C=10, kernel=rbf ..................................\n",
      "[CV] ......... gamma=0.0001, C=10, kernel=rbf, score=0.962121 -   0.0s\n",
      "[CV] gamma=1, C=100, kernel=rbf ......................................\n",
      "[CV] ............. gamma=1, C=100, kernel=rbf, score=0.631579 -   0.0s\n",
      "[CV] gamma=1, C=100, kernel=rbf ......................................\n",
      "[CV] ............. gamma=1, C=100, kernel=rbf, score=0.631579 -   0.0s\n",
      "[CV] gamma=1, C=100, kernel=rbf ......................................\n",
      "[CV] ............. gamma=1, C=100, kernel=rbf, score=0.636364 -   0.0s\n",
      "[CV] gamma=0.1, C=100, kernel=rbf ....................................\n",
      "[CV] ........... gamma=0.1, C=100, kernel=rbf, score=0.631579 -   0.0s\n",
      "[CV] gamma=0.1, C=100, kernel=rbf ....................................\n",
      "[CV] ........... gamma=0.1, C=100, kernel=rbf, score=0.631579 -   0.0s\n",
      "[CV] gamma=0.1, C=100, kernel=rbf ....................................\n",
      "[CV] ........... gamma=0.1, C=100, kernel=rbf, score=0.636364 -   0.0s\n",
      "[CV] gamma=0.01, C=100, kernel=rbf ...................................\n",
      "[CV] .......... gamma=0.01, C=100, kernel=rbf, score=0.631579 -   0.0s\n",
      "[CV] gamma=0.01, C=100, kernel=rbf ...................................\n",
      "[CV] .......... gamma=0.01, C=100, kernel=rbf, score=0.631579 -   0.0s\n",
      "[CV] gamma=0.01, C=100, kernel=rbf ...................................\n",
      "[CV] .......... gamma=0.01, C=100, kernel=rbf, score=0.636364 -   0.0s\n",
      "[CV] gamma=0.001, C=100, kernel=rbf ..................................\n",
      "[CV] ......... gamma=0.001, C=100, kernel=rbf, score=0.894737 -   0.0s\n",
      "[CV] gamma=0.001, C=100, kernel=rbf ..................................\n",
      "[CV] ......... gamma=0.001, C=100, kernel=rbf, score=0.932331 -   0.0s\n",
      "[CV] gamma=0.001, C=100, kernel=rbf ..................................\n",
      "[CV] ......... gamma=0.001, C=100, kernel=rbf, score=0.916667 -   0.0s\n",
      "[CV] gamma=0.0001, C=100, kernel=rbf .................................\n",
      "[CV] ........ gamma=0.0001, C=100, kernel=rbf, score=0.917293 -   0.0s\n",
      "[CV] gamma=0.0001, C=100, kernel=rbf .................................\n",
      "[CV] ........ gamma=0.0001, C=100, kernel=rbf, score=0.977444 -   0.0s\n",
      "[CV] gamma=0.0001, C=100, kernel=rbf .................................\n",
      "[CV] ........ gamma=0.0001, C=100, kernel=rbf, score=0.939394 -   0.0s\n",
      "[CV] gamma=1, C=1000, kernel=rbf .....................................\n",
      "[CV] ............ gamma=1, C=1000, kernel=rbf, score=0.631579 -   0.0s\n",
      "[CV] gamma=1, C=1000, kernel=rbf .....................................\n",
      "[CV] ............ gamma=1, C=1000, kernel=rbf, score=0.631579 -   0.0s\n",
      "[CV] gamma=1, C=1000, kernel=rbf .....................................\n",
      "[CV] ............ gamma=1, C=1000, kernel=rbf, score=0.636364 -   0.0s\n",
      "[CV] gamma=0.1, C=1000, kernel=rbf ...................................\n",
      "[CV] .......... gamma=0.1, C=1000, kernel=rbf, score=0.631579 -   0.0s\n",
      "[CV] gamma=0.1, C=1000, kernel=rbf ...................................\n",
      "[CV] .......... gamma=0.1, C=1000, kernel=rbf, score=0.631579 -   0.0s\n",
      "[CV] gamma=0.1, C=1000, kernel=rbf ...................................\n",
      "[CV] .......... gamma=0.1, C=1000, kernel=rbf, score=0.636364 -   0.0s\n",
      "[CV] gamma=0.01, C=1000, kernel=rbf ..................................\n",
      "[CV] ......... gamma=0.01, C=1000, kernel=rbf, score=0.631579 -   0.0s\n",
      "[CV] gamma=0.01, C=1000, kernel=rbf ..................................\n",
      "[CV] ......... gamma=0.01, C=1000, kernel=rbf, score=0.631579 -   0.0s\n",
      "[CV] gamma=0.01, C=1000, kernel=rbf ..................................\n",
      "[CV] ......... gamma=0.01, C=1000, kernel=rbf, score=0.636364 -   0.0s\n",
      "[CV] gamma=0.001, C=1000, kernel=rbf .................................\n",
      "[CV] ........ gamma=0.001, C=1000, kernel=rbf, score=0.894737 -   0.0s\n",
      "[CV] gamma=0.001, C=1000, kernel=rbf .................................\n",
      "[CV] ........ gamma=0.001, C=1000, kernel=rbf, score=0.932331 -   0.0s\n",
      "[CV] gamma=0.001, C=1000, kernel=rbf .................................\n",
      "[CV] ........ gamma=0.001, C=1000, kernel=rbf, score=0.916667 -   0.0s"
     ]
    },
    {
     "name": "stderr",
     "output_type": "stream",
     "text": [
      "[Parallel(n_jobs=1)]: Done  31 tasks       | elapsed:    0.3s\n",
      "[Parallel(n_jobs=1)]: Done  75 out of  75 | elapsed:    0.8s finished\n"
     ]
    },
    {
     "name": "stdout",
     "output_type": "stream",
     "text": [
      "\n",
      "[CV] gamma=0.0001, C=1000, kernel=rbf ................................\n",
      "[CV] ....... gamma=0.0001, C=1000, kernel=rbf, score=0.909774 -   0.0s\n",
      "[CV] gamma=0.0001, C=1000, kernel=rbf ................................\n",
      "[CV] ....... gamma=0.0001, C=1000, kernel=rbf, score=0.969925 -   0.0s\n",
      "[CV] gamma=0.0001, C=1000, kernel=rbf ................................\n",
      "[CV] ....... gamma=0.0001, C=1000, kernel=rbf, score=0.931818 -   0.0s\n"
     ]
    },
    {
     "data": {
      "text/plain": [
       "GridSearchCV(cv=None, error_score='raise',\n",
       "       estimator=SVC(C=1.0, cache_size=200, class_weight=None, coef0=0.0,\n",
       "  decision_function_shape=None, degree=3, gamma='auto', kernel='rbf',\n",
       "  max_iter=-1, probability=False, random_state=None, shrinking=True,\n",
       "  tol=0.001, verbose=False),\n",
       "       fit_params={}, iid=True, n_jobs=1,\n",
       "       param_grid={'gamma': [1, 0.1, 0.01, 0.001, 0.0001], 'C': [0.1, 1, 10, 100, 1000], 'kernel': ['rbf']},\n",
       "       pre_dispatch='2*n_jobs', refit=True, scoring=None, verbose=3)"
      ]
     },
     "execution_count": 40,
     "metadata": {},
     "output_type": "execute_result"
    }
   ],
   "source": [
    "# Talvez demore um pouco\n",
    "grid.fit(X_train,y_train)"
   ]
  },
  {
   "cell_type": "markdown",
   "metadata": {},
   "source": [
    "Você pode inspecionar os melhores parâmetros encontrados pelo GridSearchCV no atributo best_params_ e o melhor estimador no melhor atributo \\ _estimator_:"
   ]
  },
  {
   "cell_type": "code",
   "execution_count": 41,
   "metadata": {},
   "outputs": [
    {
     "data": {
      "text/plain": [
       "{'C': 10, 'gamma': 0.0001, 'kernel': 'rbf'}"
      ]
     },
     "execution_count": 41,
     "metadata": {},
     "output_type": "execute_result"
    }
   ],
   "source": [
    "grid.best_params_"
   ]
  },
  {
   "cell_type": "code",
   "execution_count": null,
   "metadata": {
    "collapsed": true
   },
   "outputs": [],
   "source": [
    "grid.best_estimator_"
   ]
  },
  {
   "cell_type": "markdown",
   "metadata": {},
   "source": [
    "Então você pode re-executar previsões neste objeto da grade exatamente como você faria com um modelo normal."
   ]
  },
  {
   "cell_type": "code",
   "execution_count": 48,
   "metadata": {
    "collapsed": true
   },
   "outputs": [],
   "source": [
    "grid_predictions = grid.predict(X_test)"
   ]
  },
  {
   "cell_type": "code",
   "execution_count": 49,
   "metadata": {},
   "outputs": [
    {
     "name": "stdout",
     "output_type": "stream",
     "text": [
      "[[ 60   6]\n",
      " [  3 102]]\n"
     ]
    }
   ],
   "source": [
    "print(confusion_matrix(y_test,grid_predictions))"
   ]
  },
  {
   "cell_type": "code",
   "execution_count": 50,
   "metadata": {},
   "outputs": [
    {
     "name": "stdout",
     "output_type": "stream",
     "text": [
      "             precision    recall  f1-score   support\n",
      "\n",
      "          0       0.95      0.91      0.93        66\n",
      "          1       0.94      0.97      0.96       105\n",
      "\n",
      "avg / total       0.95      0.95      0.95       171\n",
      "\n"
     ]
    }
   ],
   "source": [
    "print(classification_report(y_test,grid_predictions))"
   ]
  }
 ],
 "metadata": {
  "kernelspec": {
   "display_name": "Python 3",
   "language": "python",
   "name": "python3"
  },
  "language_info": {
   "codemirror_mode": {
    "name": "ipython",
    "version": 3
   },
   "file_extension": ".py",
   "mimetype": "text/x-python",
   "name": "python",
   "nbconvert_exporter": "python",
   "pygments_lexer": "ipython3",
   "version": "3.6.4"
  }
 },
 "nbformat": 4,
 "nbformat_minor": 1
}
